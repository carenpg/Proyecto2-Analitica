{
  "nbformat": 4,
  "nbformat_minor": 0,
  "metadata": {
    "colab": {
      "provenance": [],
      "mount_file_id": "1GlE5Ydz3RCxZFwUUHJ_E5AtEla6qE2B0",
      "authorship_tag": "ABX9TyMi1ukyX+xIQO62pqd72QDE",
      "include_colab_link": true
    },
    "kernelspec": {
      "name": "python3",
      "display_name": "Python 3"
    },
    "language_info": {
      "name": "python"
    }
  },
  "cells": [
    {
      "cell_type": "markdown",
      "metadata": {
        "id": "view-in-github",
        "colab_type": "text"
      },
      "source": [
        "<a href=\"https://colab.research.google.com/github/carenpg/Proyecto2-Analitica/blob/main/RegresionLogistica.ipynb\" target=\"_parent\"><img src=\"https://colab.research.google.com/assets/colab-badge.svg\" alt=\"Open In Colab\"/></a>"
      ]
    },
    {
      "cell_type": "code",
      "execution_count": 112,
      "metadata": {
        "colab": {
          "base_uri": "https://localhost:8080/"
        },
        "id": "4f8HwBMYluis",
        "outputId": "81248e13-3918-4fa3-8b56-cc4e4aae97e8"
      },
      "outputs": [
        {
          "output_type": "stream",
          "name": "stdout",
          "text": [
            "   gender SeniorCitizen Partner Dependents  tenure PhoneService  \\\n",
            "0  Female            No     Yes         No     1.0           No   \n",
            "1    Male            No      No         No    34.0          Yes   \n",
            "2    Male            No      No         No     2.0          Yes   \n",
            "3    Male            No      No         No    45.0           No   \n",
            "4  Female            No      No         No     2.0          Yes   \n",
            "\n",
            "        MultipleLines InternetService OnlineSecurity OnlineBackup  \\\n",
            "0  'No phone service'             DSL             No          Yes   \n",
            "1                  No             DSL            Yes           No   \n",
            "2                  No             DSL            Yes          Yes   \n",
            "3  'No phone service'             DSL            Yes           No   \n",
            "4                  No   'Fiber optic'             No           No   \n",
            "\n",
            "  DeviceProtection TechSupport StreamingTV StreamingMovies        Contract  \\\n",
            "0               No          No          No              No  Month-to-month   \n",
            "1              Yes          No          No              No      'One year'   \n",
            "2               No          No          No              No  Month-to-month   \n",
            "3              Yes         Yes          No              No      'One year'   \n",
            "4               No          No          No              No  Month-to-month   \n",
            "\n",
            "  PaperlessBilling                PaymentMethod  MonthlyCharges TotalCharges  \\\n",
            "0              Yes           'Electronic check'           29.85        29.85   \n",
            "1               No               'Mailed check'           56.95       1889.5   \n",
            "2              Yes               'Mailed check'           53.85       108.15   \n",
            "3               No  'Bank transfer (automatic)'           42.30      1840.75   \n",
            "4              Yes           'Electronic check'           70.70       151.65   \n",
            "\n",
            "  Churn  \n",
            "0    No  \n",
            "1    No  \n",
            "2   Yes  \n",
            "3    No  \n",
            "4   Yes  \n"
          ]
        }
      ],
      "source": [
        "import pandas as pd\n",
        "import numpy as np\n",
        "import statsmodels.api as sm\n",
        "import matplotlib.pyplot as plt\n",
        "import seaborn as sns\n",
        "from sklearn.model_selection import train_test_split\n",
        "from sklearn.preprocessing import StandardScaler\n",
        "from sklearn.linear_model import LogisticRegression\n",
        "from sklearn.metrics import accuracy_score, classification_report\n",
        "\n",
        "data = pd.read_csv(\"/content/drive/MyDrive/Analitica/Telco-Customer-Churn-V2.csv\")\n",
        "\n",
        "print(data.head())"
      ]
    },
    {
      "cell_type": "code",
      "source": [
        "print(data.columns)\n",
        "\n",
        "print(f\"Número de columnas: {data.shape[1]}\")\n",
        "\n",
        "print(f\"Número de cuentas: {data.shape[0]}\")\n",
        "\n",
        "data.info\n",
        "\n",
        "print(data.dtypes)\n",
        "\n",
        "\n",
        "data['TotalCharges'] = pd.to_numeric(data['TotalCharges'], errors='coerce')\n",
        "\n",
        "\n",
        "#Calculamos el porcentaje que equivalen los datos faltantes\n",
        "missing_percentage = data.isnull().mean() * 100\n",
        "# Eliminamos las columnas que tengan más del 30 porciento de datos faltantes\n",
        "columns_to_drop = missing_percentage[missing_percentage > 30].index.tolist()\n",
        "data = data.drop(columns=columns_to_drop)\n",
        "\n",
        "print(data.isnull().sum())\n",
        "\n",
        "missing_percent = ((data.isnull().sum() / len(data)) * 100)\n",
        "print(missing_percent)\n",
        "\n",
        "data['Dependents'].fillna(data['Dependents'].mode()[0], inplace=True)\n",
        "\n",
        "cols_fill_no = ['OnlineSecurity', 'OnlineBackup', 'TechSupport']\n",
        "for col in cols_fill_no:\n",
        "    data[col].fillna('No', inplace=True)\n",
        "\n",
        "data['MonthlyCharges'].fillna(data['MonthlyCharges'].median(), inplace=True)\n",
        "\n",
        "# Verificar que no haya nulos restantes\n",
        "print(data.isnull().sum())"
      ],
      "metadata": {
        "colab": {
          "base_uri": "https://localhost:8080/"
        },
        "id": "LkT0WUKrmSvl",
        "outputId": "b2a69027-5ee1-4417-ba7e-36839927fd7e"
      },
      "execution_count": 113,
      "outputs": [
        {
          "output_type": "stream",
          "name": "stdout",
          "text": [
            "Index(['gender', 'SeniorCitizen', 'Partner', 'Dependents', 'tenure',\n",
            "       'PhoneService', 'MultipleLines', 'InternetService', 'OnlineSecurity',\n",
            "       'OnlineBackup', 'DeviceProtection', 'TechSupport', 'StreamingTV',\n",
            "       'StreamingMovies', 'Contract', 'PaperlessBilling', 'PaymentMethod',\n",
            "       'MonthlyCharges', 'TotalCharges', 'Churn'],\n",
            "      dtype='object')\n",
            "Número de columnas: 20\n",
            "Número de cuentas: 7043\n",
            "gender               object\n",
            "SeniorCitizen        object\n",
            "Partner              object\n",
            "Dependents           object\n",
            "tenure              float64\n",
            "PhoneService         object\n",
            "MultipleLines        object\n",
            "InternetService      object\n",
            "OnlineSecurity       object\n",
            "OnlineBackup         object\n",
            "DeviceProtection     object\n",
            "TechSupport          object\n",
            "StreamingTV          object\n",
            "StreamingMovies      object\n",
            "Contract             object\n",
            "PaperlessBilling     object\n",
            "PaymentMethod        object\n",
            "MonthlyCharges      float64\n",
            "TotalCharges         object\n",
            "Churn                object\n",
            "dtype: object\n",
            "gender                0\n",
            "SeniorCitizen         0\n",
            "Partner               0\n",
            "Dependents           84\n",
            "tenure              184\n",
            "PhoneService          0\n",
            "MultipleLines         0\n",
            "InternetService       0\n",
            "OnlineSecurity      162\n",
            "OnlineBackup        167\n",
            "DeviceProtection      0\n",
            "TechSupport         162\n",
            "StreamingTV           0\n",
            "StreamingMovies       0\n",
            "Contract              0\n",
            "PaperlessBilling      0\n",
            "PaymentMethod         0\n",
            "MonthlyCharges      188\n",
            "TotalCharges        377\n",
            "Churn                 0\n",
            "dtype: int64\n",
            "gender              0.000000\n",
            "SeniorCitizen       0.000000\n",
            "Partner             0.000000\n",
            "Dependents          1.192674\n",
            "tenure              2.612523\n",
            "PhoneService        0.000000\n",
            "MultipleLines       0.000000\n",
            "InternetService     0.000000\n",
            "OnlineSecurity      2.300156\n",
            "OnlineBackup        2.371149\n",
            "DeviceProtection    0.000000\n",
            "TechSupport         2.300156\n",
            "StreamingTV         0.000000\n",
            "StreamingMovies     0.000000\n",
            "Contract            0.000000\n",
            "PaperlessBilling    0.000000\n",
            "PaymentMethod       0.000000\n",
            "MonthlyCharges      2.669317\n",
            "TotalCharges        5.352833\n",
            "Churn               0.000000\n",
            "dtype: float64\n",
            "gender                0\n",
            "SeniorCitizen         0\n",
            "Partner               0\n",
            "Dependents            0\n",
            "tenure              184\n",
            "PhoneService          0\n",
            "MultipleLines         0\n",
            "InternetService       0\n",
            "OnlineSecurity        0\n",
            "OnlineBackup          0\n",
            "DeviceProtection      0\n",
            "TechSupport           0\n",
            "StreamingTV           0\n",
            "StreamingMovies       0\n",
            "Contract              0\n",
            "PaperlessBilling      0\n",
            "PaymentMethod         0\n",
            "MonthlyCharges        0\n",
            "TotalCharges        377\n",
            "Churn                 0\n",
            "dtype: int64\n"
          ]
        },
        {
          "output_type": "stream",
          "name": "stderr",
          "text": [
            "<ipython-input-113-a048372155e2>:26: FutureWarning: A value is trying to be set on a copy of a DataFrame or Series through chained assignment using an inplace method.\n",
            "The behavior will change in pandas 3.0. This inplace method will never work because the intermediate object on which we are setting values always behaves as a copy.\n",
            "\n",
            "For example, when doing 'df[col].method(value, inplace=True)', try using 'df.method({col: value}, inplace=True)' or df[col] = df[col].method(value) instead, to perform the operation inplace on the original object.\n",
            "\n",
            "\n",
            "  data['Dependents'].fillna(data['Dependents'].mode()[0], inplace=True)\n",
            "<ipython-input-113-a048372155e2>:30: FutureWarning: A value is trying to be set on a copy of a DataFrame or Series through chained assignment using an inplace method.\n",
            "The behavior will change in pandas 3.0. This inplace method will never work because the intermediate object on which we are setting values always behaves as a copy.\n",
            "\n",
            "For example, when doing 'df[col].method(value, inplace=True)', try using 'df.method({col: value}, inplace=True)' or df[col] = df[col].method(value) instead, to perform the operation inplace on the original object.\n",
            "\n",
            "\n",
            "  data[col].fillna('No', inplace=True)\n",
            "<ipython-input-113-a048372155e2>:32: FutureWarning: A value is trying to be set on a copy of a DataFrame or Series through chained assignment using an inplace method.\n",
            "The behavior will change in pandas 3.0. This inplace method will never work because the intermediate object on which we are setting values always behaves as a copy.\n",
            "\n",
            "For example, when doing 'df[col].method(value, inplace=True)', try using 'df.method({col: value}, inplace=True)' or df[col] = df[col].method(value) instead, to perform the operation inplace on the original object.\n",
            "\n",
            "\n",
            "  data['MonthlyCharges'].fillna(data['MonthlyCharges'].median(), inplace=True)\n"
          ]
        }
      ]
    },
    {
      "cell_type": "code",
      "source": [
        "data = pd.get_dummies(data, columns=[\"gender\", \"Partner\", \"Dependents\", \"PhoneService\",\n",
        "                                 \"MultipleLines\", \"InternetService\", \"OnlineSecurity\",\n",
        "                                 \"OnlineBackup\", \"DeviceProtection\", \"TechSupport\",\n",
        "                                 \"StreamingTV\", \"StreamingMovies\", \"PaperlessBilling\"], drop_first=True)\n"
      ],
      "metadata": {
        "id": "hh9-tFmLosAU"
      },
      "execution_count": 114,
      "outputs": []
    },
    {
      "cell_type": "code",
      "source": [
        "# Verificar si hay columnas de tipo objeto (string)\n",
        "columnas_categoricas = data.select_dtypes(include=[\"object\"]).columns\n",
        "print(\"Columnas categóricas no convertidas:\", columnas_categoricas)\n",
        "\n",
        "# Aplicar One-Hot Encoding si aún hay variables categóricas sin transformar\n",
        "data = pd.get_dummies(data, columns=columnas_categoricas, drop_first=True)\n",
        "\n",
        "# Confirmar que ya no haya datos de tipo string\n",
        "print(data.dtypes)\n",
        "\n"
      ],
      "metadata": {
        "colab": {
          "base_uri": "https://localhost:8080/"
        },
        "id": "bDsgkD7nqUuR",
        "outputId": "d654c4e5-e499-458f-8bd5-ab30338872b9"
      },
      "execution_count": 115,
      "outputs": [
        {
          "output_type": "stream",
          "name": "stdout",
          "text": [
            "Columnas categóricas no convertidas: Index(['SeniorCitizen', 'Contract', 'PaymentMethod', 'Churn'], dtype='object')\n",
            "tenure                                     float64\n",
            "MonthlyCharges                             float64\n",
            "TotalCharges                               float64\n",
            "gender_Male                                   bool\n",
            "Partner_Yes                                   bool\n",
            "Dependents_Yes                                bool\n",
            "PhoneService_Yes                              bool\n",
            "MultipleLines_No                              bool\n",
            "MultipleLines_Yes                             bool\n",
            "InternetService_DSL                           bool\n",
            "InternetService_No                            bool\n",
            "OnlineSecurity_No                             bool\n",
            "OnlineSecurity_Yes                            bool\n",
            "OnlineBackup_No                               bool\n",
            "OnlineBackup_Yes                              bool\n",
            "DeviceProtection_No                           bool\n",
            "DeviceProtection_Yes                          bool\n",
            "TechSupport_No                                bool\n",
            "TechSupport_Yes                               bool\n",
            "StreamingTV_No                                bool\n",
            "StreamingTV_Yes                               bool\n",
            "StreamingMovies_No                            bool\n",
            "StreamingMovies_Yes                           bool\n",
            "PaperlessBilling_Yes                          bool\n",
            "SeniorCitizen_Yes                             bool\n",
            "Contract_'Two year'                           bool\n",
            "Contract_Month-to-month                       bool\n",
            "PaymentMethod_'Credit card (automatic)'       bool\n",
            "PaymentMethod_'Electronic check'              bool\n",
            "PaymentMethod_'Mailed check'                  bool\n",
            "Churn_Yes                                     bool\n",
            "dtype: object\n"
          ]
        }
      ]
    },
    {
      "cell_type": "code",
      "source": [
        "from sklearn.model_selection import train_test_split\n",
        "from sklearn.preprocessing import StandardScaler\n",
        "from sklearn.impute import SimpleImputer\n",
        "from sklearn.linear_model import LogisticRegression\n",
        "from sklearn.metrics import accuracy_score, classification_report, confusion_matrix, roc_auc_score, roc_curve\n",
        "# Separar variables predictoras y variable objetivo\n",
        "X = data.drop(columns=[\"Churn_Yes\"])\n",
        "y = data[\"Churn_Yes\"]\n",
        "\n",
        "# Dividir en datos de entrenamiento y prueba\n",
        "X_train, X_test, y_train, y_test = train_test_split(X, y, test_size=0.2, random_state=42)\n",
        "\n",
        "# Manejo de valores faltantes\n",
        "imputer = SimpleImputer(strategy=\"mean\")  # Imputa los valores faltantes con la media de cada columna\n",
        "X_train = imputer.fit_transform(X_train)\n",
        "X_test = imputer.transform(X_test)\n",
        "\n",
        "# Guardar los nombres de las características después de la transformación\n",
        "feature_names = X.columns[:X_train.shape[1]]\n",
        "\n",
        "# Estandarizar los datos\n",
        "scaler = StandardScaler()\n",
        "X_train = scaler.fit_transform(X_train)\n",
        "X_test = scaler.transform(X_test)\n",
        "\n",
        "# Entrenar el modelo de Regresión Logística\n",
        "modelo = LogisticRegression()\n",
        "modelo.fit(X_train, y_train)\n",
        "\n",
        "# Hacer predicciones\n",
        "y_pred = modelo.predict(X_test)\n",
        "\n",
        "# Evaluación del modelo\n",
        "print(\"Accuracy:\", accuracy_score(y_test, y_pred))\n",
        "print(\"Reporte de Clasificación:\\n\", classification_report(y_test, y_pred))\n",
        "\n"
      ],
      "metadata": {
        "colab": {
          "base_uri": "https://localhost:8080/"
        },
        "id": "_uIClokov5Xh",
        "outputId": "d045ec49-9b19-42bd-d63f-4fc505486bdb"
      },
      "execution_count": 120,
      "outputs": [
        {
          "output_type": "stream",
          "name": "stdout",
          "text": [
            "Accuracy: 0.8190205819730305\n",
            "Reporte de Clasificación:\n",
            "               precision    recall  f1-score   support\n",
            "\n",
            "       False       0.86      0.90      0.88      1036\n",
            "        True       0.69      0.58      0.63       373\n",
            "\n",
            "    accuracy                           0.82      1409\n",
            "   macro avg       0.77      0.74      0.76      1409\n",
            "weighted avg       0.81      0.82      0.81      1409\n",
            "\n"
          ]
        }
      ]
    },
    {
      "cell_type": "code",
      "source": [
        "# Matriz de confusión con etiquetas personalizadas\n",
        "conf_matrix = confusion_matrix(y_test, y_pred)\n",
        "plt.figure(figsize=(5, 4))\n",
        "sns.heatmap(conf_matrix, annot=True, fmt='d', cmap='Blues', xticklabels=['No Churn (0)', 'Churn (1)'], yticklabels=['No Churn (0)', 'Churn (1)'])\n",
        "plt.xlabel(\"Predicho\")\n",
        "plt.ylabel(\"Real\")\n",
        "plt.title(\"Matriz de Confusión\")\n",
        "plt.show()"
      ],
      "metadata": {
        "colab": {
          "base_uri": "https://localhost:8080/",
          "height": 410
        },
        "id": "9z-1sCXg1Iah",
        "outputId": "e785c571-0e77-4bf9-eaa8-f4a68ef90441"
      },
      "execution_count": 122,
      "outputs": [
        {
          "output_type": "display_data",
          "data": {
            "text/plain": [
              "<Figure size 500x400 with 2 Axes>"
            ],
            "image/png": "[encoded data removed]"
          },
          "metadata": {}
        }
      ]
    },
    {
      "cell_type": "code",
      "source": [
        "# AUC-ROC\n",
        "y_probs = modelo.predict_proba(X_test)[:, 1]\n",
        "fpr, tpr, _ = roc_curve(y_test, y_probs)\n",
        "auc_score = roc_auc_score(y_test, y_probs)\n",
        "\n",
        "plt.figure(figsize=(6, 5))\n",
        "plt.plot(fpr, tpr, label=f'AUC = {auc_score:.2f}')\n",
        "plt.plot([0, 1], [0, 1], 'k--')\n",
        "plt.xlabel(\"FPR\")\n",
        "plt.ylabel(\"TPR\")\n",
        "plt.title(\"Curva ROC\")\n",
        "plt.legend()\n",
        "plt.show()\n"
      ],
      "metadata": {
        "colab": {
          "base_uri": "https://localhost:8080/",
          "height": 487
        },
        "id": "uV-Llo1N1ME3",
        "outputId": "e783b48e-ac56-4993-c9c1-6f9908deec00"
      },
      "execution_count": 118,
      "outputs": [
        {
          "output_type": "display_data",
          "data": {
            "text/plain": [
              "<Figure size 600x500 with 1 Axes>"
            ],
            "image/png": "[encoded data removed]"
          },
          "metadata": {}
        }
      ]
    },
    {
      "cell_type": "code",
      "source": [
        "\n",
        "# Importancia de características\n",
        "feature_importance = pd.DataFrame({\n",
        "    'Feature': feature_names,\n",
        "    'Importance': modelo.coef_[0]\n",
        "})\n",
        "feature_importance = feature_importance.sort_values(by='Importance', ascending=False)\n",
        "print(\"Características más importantes en la predicción de churn:\")\n",
        "print(feature_importance)"
      ],
      "metadata": {
        "colab": {
          "base_uri": "https://localhost:8080/"
        },
        "id": "1bLZgCMs1Q9e",
        "outputId": "a57bcf8f-0df1-42a9-b429-c266c46e1286"
      },
      "execution_count": 119,
      "outputs": [
        {
          "output_type": "stream",
          "name": "stdout",
          "text": [
            "Características más importantes en la predicción de churn:\n",
            "                                    Feature  Importance\n",
            "26                  Contract_Month-to-month    0.346962\n",
            "22                      StreamingMovies_Yes    0.264326\n",
            "20                          StreamingTV_Yes    0.240108\n",
            "11                        OnlineSecurity_No    0.235275\n",
            "2                              TotalCharges    0.220894\n",
            "15                      DeviceProtection_No    0.188523\n",
            "16                     DeviceProtection_Yes    0.176177\n",
            "28         PaymentMethod_'Electronic check'    0.161186\n",
            "23                     PaperlessBilling_Yes    0.160616\n",
            "19                           StreamingTV_No    0.123189\n",
            "21                       StreamingMovies_No    0.098855\n",
            "24                        SeniorCitizen_Yes    0.053388\n",
            "8                         MultipleLines_Yes    0.037769\n",
            "12                       OnlineSecurity_Yes    0.021912\n",
            "4                               Partner_Yes    0.018789\n",
            "29             PaymentMethod_'Mailed check'    0.007667\n",
            "3                               gender_Male   -0.027994\n",
            "27  PaymentMethod_'Credit card (automatic)'   -0.037980\n",
            "13                          OnlineBackup_No   -0.060550\n",
            "5                            Dependents_Yes   -0.071129\n",
            "6                          PhoneService_Yes   -0.091602\n",
            "7                          MultipleLines_No   -0.091912\n",
            "1                            MonthlyCharges   -0.115098\n",
            "14                         OnlineBackup_Yes   -0.138285\n",
            "17                           TechSupport_No   -0.218364\n",
            "18                          TechSupport_Yes   -0.347380\n",
            "25                      Contract_'Two year'   -0.350335\n",
            "10                       InternetService_No   -0.431077\n",
            "9                       InternetService_DSL   -0.437227\n",
            "0                                    tenure   -0.919176\n"
          ]
        }
      ]
    }
  ]
}